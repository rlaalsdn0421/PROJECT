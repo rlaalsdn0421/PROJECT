{
  "nbformat": 4,
  "nbformat_minor": 0,
  "metadata": {
    "colab": {
      "name": "Untitled5.ipynb",
      "provenance": [],
      "authorship_tag": "ABX9TyNLdZ2HVpUI15eMZc2e1N0W",
      "include_colab_link": true
    },
    "kernelspec": {
      "name": "python3",
      "display_name": "Python 3"
    },
    "language_info": {
      "name": "python"
    }
  },
  "cells": [
    {
      "cell_type": "markdown",
      "metadata": {
        "id": "view-in-github",
        "colab_type": "text"
      },
      "source": [
        "<a href=\"https://colab.research.google.com/github/rlaalsdn0421/PROJECT/blob/main/Untitled5.ipynb\" target=\"_parent\"><img src=\"https://colab.research.google.com/assets/colab-badge.svg\" alt=\"Open In Colab\"/></a>"
      ]
    },
    {
      "cell_type": "code",
      "metadata": {
        "id": "keEEj26346Zp"
      },
      "source": [
        "import numpy as np\n",
        "import pandas as pd\n",
        "\n",
        "import matplotlib.pyplot as plt\n",
        "import seaborn as sns"
      ],
      "execution_count": 1,
      "outputs": []
    },
    {
      "cell_type": "code",
      "metadata": {
        "colab": {
          "base_uri": "https://localhost:8080/",
          "height": 462
        },
        "id": "nzZo_eoq6Lkj",
        "outputId": "8c1c4f92-6250-49bf-fdf0-92e343a8a019"
      },
      "source": [
        "df = pd.read_csv('https://www.kaggle.com/varpit94/bitcoin-data-updated-till-26jun2021')\n",
        "df"
      ],
      "execution_count": 8,
      "outputs": [
        {
          "output_type": "stream",
          "name": "stderr",
          "text": [
            "b'Skipping line 126: expected 1 fields, saw 2\\nSkipping line 145: expected 1 fields, saw 338\\nSkipping line 146: expected 1 fields, saw 2\\nSkipping line 161: expected 1 fields, saw 2\\nSkipping line 213: expected 1 fields, saw 3\\nSkipping line 227: expected 1 fields, saw 6\\nSkipping line 263: expected 1 fields, saw 4\\nSkipping line 268: expected 1 fields, saw 10\\nSkipping line 273: expected 1 fields, saw 10\\nSkipping line 278: expected 1 fields, saw 10\\nSkipping line 283: expected 1 fields, saw 10\\nSkipping line 288: expected 1 fields, saw 10\\nSkipping line 293: expected 1 fields, saw 10\\nSkipping line 298: expected 1 fields, saw 10\\nSkipping line 303: expected 1 fields, saw 10\\nSkipping line 308: expected 1 fields, saw 10\\nSkipping line 313: expected 1 fields, saw 10\\nSkipping line 318: expected 1 fields, saw 10\\nSkipping line 329: expected 1 fields, saw 8\\nSkipping line 333: expected 1 fields, saw 8\\nSkipping line 341: expected 1 fields, saw 4\\nSkipping line 346: expected 1 fields, saw 10\\nSkipping line 353: expected 1 fields, saw 10\\nSkipping line 358: expected 1 fields, saw 10\\nSkipping line 363: expected 1 fields, saw 10\\nSkipping line 368: expected 1 fields, saw 10\\nSkipping line 373: expected 1 fields, saw 10\\nSkipping line 380: expected 1 fields, saw 10\\nSkipping line 385: expected 1 fields, saw 10\\nSkipping line 390: expected 1 fields, saw 10\\nSkipping line 395: expected 1 fields, saw 10\\nSkipping line 400: expected 1 fields, saw 10\\nSkipping line 411: expected 1 fields, saw 8\\nSkipping line 419: expected 1 fields, saw 4\\nSkipping line 424: expected 1 fields, saw 10\\nSkipping line 429: expected 1 fields, saw 10\\nSkipping line 434: expected 1 fields, saw 10\\nSkipping line 439: expected 1 fields, saw 10\\nSkipping line 464: expected 1 fields, saw 2\\nSkipping line 663: expected 1 fields, saw 6\\nSkipping line 664: expected 1 fields, saw 3\\nSkipping line 671: expected 1 fields, saw 6\\nSkipping line 672: expected 1 fields, saw 8\\nSkipping line 760: expected 1 fields, saw 6\\nSkipping line 775: expected 1 fields, saw 6\\nSkipping line 799: expected 1 fields, saw 6\\nSkipping line 837: expected 1 fields, saw 3\\nSkipping line 849: expected 1 fields, saw 3\\nSkipping line 861: expected 1 fields, saw 3\\nSkipping line 873: expected 1 fields, saw 3\\nSkipping line 885: expected 1 fields, saw 3\\nSkipping line 897: expected 1 fields, saw 3\\nSkipping line 909: expected 1 fields, saw 3\\nSkipping line 920: expected 1 fields, saw 3\\nSkipping line 1183: expected 1 fields, saw 7\\nSkipping line 1275: expected 1 fields, saw 2\\nSkipping line 1278: expected 1 fields, saw 2\\nSkipping line 1311: expected 1 fields, saw 2\\nSkipping line 1313: expected 1 fields, saw 2\\nSkipping line 1355: expected 1 fields, saw 2\\nSkipping line 27621: expected 1 fields, saw 2\\nSkipping line 27622: expected 1 fields, saw 8\\nSkipping line 27623: expected 1 fields, saw 8\\nSkipping line 27624: expected 1 fields, saw 8\\nSkipping line 27625: expected 1 fields, saw 8\\nSkipping line 27626: expected 1 fields, saw 3\\nSkipping line 27635: expected 1 fields, saw 8\\nSkipping line 27636: expected 1 fields, saw 8\\nSkipping line 27637: expected 1 fields, saw 8\\nSkipping line 27638: expected 1 fields, saw 8\\nSkipping line 27639: expected 1 fields, saw 8\\nSkipping line 27640: expected 1 fields, saw 3\\n'\n"
          ]
        },
        {
          "output_type": "execute_result",
          "data": {
            "text/html": [
              "<div>\n",
              "<style scoped>\n",
              "    .dataframe tbody tr th:only-of-type {\n",
              "        vertical-align: middle;\n",
              "    }\n",
              "\n",
              "    .dataframe tbody tr th {\n",
              "        vertical-align: top;\n",
              "    }\n",
              "\n",
              "    .dataframe thead th {\n",
              "        text-align: right;\n",
              "    }\n",
              "</style>\n",
              "<table border=\"1\" class=\"dataframe\">\n",
              "  <thead>\n",
              "    <tr style=\"text-align: right;\">\n",
              "      <th></th>\n",
              "      <th>&lt;!DOCTYPE html&gt;</th>\n",
              "    </tr>\n",
              "  </thead>\n",
              "  <tbody>\n",
              "    <tr>\n",
              "      <th>0</th>\n",
              "      <td>&lt;html lang=\"en\" data-color-mode=\"auto\" data-li...</td>\n",
              "    </tr>\n",
              "    <tr>\n",
              "      <th>1</th>\n",
              "      <td>&lt;head&gt;</td>\n",
              "    </tr>\n",
              "    <tr>\n",
              "      <th>2</th>\n",
              "      <td>&lt;meta charset=\"utf-8\"&gt;</td>\n",
              "    </tr>\n",
              "    <tr>\n",
              "      <th>3</th>\n",
              "      <td>&lt;link rel=\"dns-prefetch\" href=\"https://githu...</td>\n",
              "    </tr>\n",
              "    <tr>\n",
              "      <th>4</th>\n",
              "      <td>&lt;link rel=\"dns-prefetch\" href=\"https://avata...</td>\n",
              "    </tr>\n",
              "    <tr>\n",
              "      <th>...</th>\n",
              "      <td>...</td>\n",
              "    </tr>\n",
              "    <tr>\n",
              "      <th>27231</th>\n",
              "      <td>&lt;/clipboard-copy&gt;</td>\n",
              "    </tr>\n",
              "    <tr>\n",
              "      <th>27232</th>\n",
              "      <td>&lt;/div&gt;</td>\n",
              "    </tr>\n",
              "    <tr>\n",
              "      <th>27233</th>\n",
              "      <td>&lt;/template&gt;</td>\n",
              "    </tr>\n",
              "    <tr>\n",
              "      <th>27234</th>\n",
              "      <td>&lt;/body&gt;</td>\n",
              "    </tr>\n",
              "    <tr>\n",
              "      <th>27235</th>\n",
              "      <td>&lt;/html&gt;</td>\n",
              "    </tr>\n",
              "  </tbody>\n",
              "</table>\n",
              "<p>27236 rows × 1 columns</p>\n",
              "</div>"
            ],
            "text/plain": [
              "                                         <!DOCTYPE html>\n",
              "0      <html lang=\"en\" data-color-mode=\"auto\" data-li...\n",
              "1                                                 <head>\n",
              "2                                 <meta charset=\"utf-8\">\n",
              "3        <link rel=\"dns-prefetch\" href=\"https://githu...\n",
              "4        <link rel=\"dns-prefetch\" href=\"https://avata...\n",
              "...                                                  ...\n",
              "27231                                  </clipboard-copy>\n",
              "27232                                             </div>\n",
              "27233                                        </template>\n",
              "27234                                            </body>\n",
              "27235                                            </html>\n",
              "\n",
              "[27236 rows x 1 columns]"
            ]
          },
          "metadata": {},
          "execution_count": 8
        }
      ]
    }
  ]
}
